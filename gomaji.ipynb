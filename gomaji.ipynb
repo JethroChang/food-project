{
 "cells": [
  {
   "cell_type": "code",
   "execution_count": 4,
   "metadata": {},
   "outputs": [
    {
     "name": "stdout",
     "output_type": "stream",
     "text": [
      "Requirement already satisfied: selenium in c:\\users\\java\\anaconda3\\lib\\site-packages\n"
     ]
    }
   ],
   "source": [
    "!pip install selenium"
   ]
  },
  {
   "cell_type": "code",
   "execution_count": 47,
   "metadata": {},
   "outputs": [
    {
     "name": "stdout",
     "output_type": "stream",
     "text": [
      "javascript:void(0);\n",
      "None\n",
      "None\n",
      "javascript:void(0);\n",
      "None\n",
      "None\n",
      "javascript:void(0);\n",
      "None\n",
      "None\n",
      "javascript:void(0);\n",
      "None\n",
      "None\n",
      "Taipei_p171587.html\n",
      "<h2 class=\"ref_name_2\">花楹苑</h2>\n",
      "<span>219</span>\n",
      "Taipei_p171548.html\n",
      "<h2 class=\"ref_name_2\">咖哩王子(臨江店)</h2>\n",
      "<span>98</span>\n",
      "Taipei_p170966.html\n",
      "<h2 class=\"ref_name_2\">堤諾比薩Tino's Pizza Ex...</h2>\n",
      "<span>159</span>\n",
      "Taipei_p171663.html\n",
      "<h2 class=\"ref_name_2\">云滇雲南過橋米線</h2>\n",
      "<span>425</span>\n",
      "Taiwan_p171419.html\n",
      "<h2 class=\"ref_name_2\">誠品行旅</h2>\n",
      "<span>998</span>\n",
      "Taipei_p171356.html\n",
      "<h2 class=\"ref_name_2\">佐策餐飲工坊</h2>\n",
      "<span>75</span>\n",
      "Taipei_p170283.html\n",
      "<h2 class=\"ref_name_2\">討海廊</h2>\n",
      "<span>145</span>\n",
      "Taipei_p171152.html\n",
      "<h2 class=\"ref_name_2\">艾芝園米食手工場</h2>\n",
      "<span>320</span>\n",
      "Taipei_p170760.html\n",
      "<h2 class=\"ref_name_2\">高記上海料理餐廳(中山店)</h2>\n",
      "<span>750</span>\n",
      "Taipei_p170790.html\n",
      "<h2 class=\"ref_name_2\">新富錦燒臘港點</h2>\n",
      "<span>173</span>\n",
      "Taipei_p171559.html\n",
      "<h2 class=\"ref_name_2\">Racer Cafe Taipei</h2>\n",
      "<span>89</span>\n",
      "Taipei_p170024.html\n",
      "<h2 class=\"ref_name_2\">天外天精緻火鍋</h2>\n",
      "<span>527</span>\n",
      "Taipei_p168295.html\n",
      "<h2 class=\"ref_name_2\">三德大飯店-向陽庭餐廳</h2>\n",
      "<span>449</span>\n",
      "Taipei_p167448.html\n",
      "<h2 class=\"ref_name_2\">紗舞缡-極品集</h2>\n",
      "<span>999</span>\n",
      "Taipei_p169263.html\n",
      "<h2 class=\"ref_name_2\">六福客棧-福園</h2>\n",
      "<span>499</span>\n",
      "Taipei_p165583.html\n",
      "<h2 class=\"ref_name_2\">美麗信花園酒店</h2>\n",
      "<span>720</span>\n",
      "Taipei_p157350.html\n",
      "<h2 class=\"ref_name_2\">台北寒舍艾麗酒店-LA FAR...</h2>\n",
      "<span>670</span>\n",
      "Taipei_p166761.html\n",
      "<h2 class=\"ref_name_2\">五麥壽喜燒．鍋物</h2>\n",
      "<span>755</span>\n"
     ]
    }
   ],
   "source": [
    "from selenium import webdriver\n",
    "import time, re\n",
    "from bs4 import BeautifulSoup\n",
    "\n",
    "\n",
    "\n",
    "driver = webdriver.Chrome()\n",
    "driver.implicitly_wait(3)\n",
    "driver.get('http://www.gomaji.com')\n",
    "for i in range(1,1):\n",
    "    driver.execute_script('window.scrollTo(0, document.body.scrollHeight);')\n",
    "    time.sleep(1)\n",
    "soup = BeautifulSoup(driver.page_source ,'lxml')\n",
    "for block1 in soup.select('.box-shadow2px > a'):\n",
    "    print(block1['href'])\n",
    "    print(block1.h2)\n",
    "    print(block1.span)\n",
    "# for block2 in soup.select('.ref_name_2'):\n",
    "#     print(block2.text)\n",
    "# for block3 in soup.select('.spe-pri > span'):\n",
    "#     print('$'+block3.text)"
   ]
  },
  {
   "cell_type": "code",
   "execution_count": null,
   "metadata": {
    "collapsed": true
   },
   "outputs": [],
   "source": []
  }
 ],
 "metadata": {
  "kernelspec": {
   "display_name": "Python 3",
   "language": "python",
   "name": "python3"
  },
  "language_info": {
   "codemirror_mode": {
    "name": "ipython",
    "version": 3
   },
   "file_extension": ".py",
   "mimetype": "text/x-python",
   "name": "python",
   "nbconvert_exporter": "python",
   "pygments_lexer": "ipython3",
   "version": "3.6.1"
  }
 },
 "nbformat": 4,
 "nbformat_minor": 2
}
