{
 "cells": [
  {
   "cell_type": "code",
   "execution_count": 34,
   "metadata": {},
   "outputs": [],
   "source": [
    "import requests\n",
    "from bs4 import BeautifulSoup\n",
    "import time\n",
    "import json\n",
    "\n",
    "with open('D:\\Project_Image\\mobile01\\台南\\{}.html'.format(25), 'r', encoding='UTF-8') as f:\n",
    "    #從內容頁檔案把資料html檔讀出來\n",
    "    info = f.read()\n",
    "    soup = BeautifulSoup(info, 'lxml')\n",
    "    totalpage = int(soup.select('.contentfoot > p')[0].text.split('共')[1].split('頁')[0])\n",
    "    \n",
    "    article = []\n",
    "    for tx in soup.select('.single-post-content'):\n",
    "        article.append(tx.text.strip())\n",
    "    dict = {}\n",
    "    dict['author_id'] = ''\n",
    "    dict['url'] = soup.find_all('meta', property=\"og:url\")[0]['content']\n",
    "    dict['name'] = ''\n",
    "    dict['date'] = soup.find_all('meta', property=\"article:published_time\")[0]['content']\n",
    "    dict['title'] = soup.find_all('meta', {\"name\":\"title\"})[0]['content']\n",
    "    dict['content'] = article[0]\n",
    "    dict['click'] = soup.select('.forum-content > main > article')[0].text.split('文章人氣: ')[1].split(' ')[0]\n",
    "    dict['push'] = ''\n",
    "    li = []\n",
    "    for i in range(1,len(article)):    \n",
    "        li.append(article[i])    \n",
    "    \n",
    "    if totalpage >= 2:        \n",
    "        for j in range(2, totalpage+1):\n",
    "            with open('D:\\Project_Image\\mobile01\\台南\\{}-{}.html'.format(25,j), 'r', encoding='UTF-8') as f:\n",
    "                info = f.read()\n",
    "                soup = BeautifulSoup(info, 'lxml')\n",
    "                article2 = []\n",
    "                for tx in soup.select('.single-post-content'):\n",
    "                    article2.append(tx.text.strip())\n",
    "                    dict['message'] = li+article2\n",
    "           \n",
    "        else:\n",
    "            dict['message'] = li              \n",
    "    \n",
    "    with open('D:\\Project_Image\\mobile01台南Json\\{}.text'.format(25), 'w', encoding='UTF-8') as f:            \n",
    "        json.dump(dict, f)"
   ]
  },
  {
   "cell_type": "code",
   "execution_count": 32,
   "metadata": {},
   "outputs": [
    {
     "data": {
      "text/plain": [
       "['在地人喝的還po出來  那在地人就朋喝了',\n",
       " '我認識超過20個在地台南人\\n\\n\\n跟我說過的在地人才喝的牛肉湯，超過8家\\n\\n\\n而且都說別的在地人喝的，根本不道地...\\n\\n\\n所以...你說呢?',\n",
       " '如果是單純喝牛肉湯配肉燥飯\\n\\n\\n建議吃早上的\\n\\n\\n任何一家都可以看順眼就進去\\n\\n\\n只要他的牛肉夠新鮮都OK\\n\\n\\n\\n至於要順便點個炒牛肉的\\n\\n\\n那就要看了....個人口味不一樣\\n\\n\\n實在很難說........\\n\\n\\n\\n\\n\\n安南區的果菜市場早上有賣牛肉湯那裡還不錯可以去試試看~\\n\\n\\n炒牛肉的話....觀光客可以去文章報到\\n\\n\\n其他就不好說了...好像也都差不多....',\n",
       " '喝牛肉湯不稀奇\\n\\n喀碗牛肉肉燥飯才叫滋味\\n\\n\\n大台南賣牛肉湯的少說有200家\\n\\n兼賣牛肉肉燥飯的不超過10%\\n\\n\\n想朝聖的就去\"文章\"\\n\\n我都吃\"府城\"',\n",
       " '每一家的湯頭都不一樣....\\n\\n價格也不一樣\\n\\n尤其是口味這種東西，大家喜歡的方向都不一樣\\n\\n基本上只要是有開的店應該都不差\\n\\n朝聖就:六千、文章這兩家算是大家的公約數\\n\\n鄉民推:長榮、西羅殿、阿安\\n\\n\\n基本上:我才不會把我的口袋名單告訴你呢～等等人太多我就吃不到還要排隊了誰賠我啊.....\\nhttp://www.jxit.com.tw/blog',\n",
       " '基本上台南的牛肉湯店都不錯\\n\\n\\n想人擠人就去名店打個卡證明你來過台南\\n\\n\\n不想人擠人..路上看到就進去吧\\n\\n\\n牛肉來源大概都同一個地方 就差湯頭而已\\n\\n\\n也不會差很多啦.......',\n",
       " '我都內用點一碗牛肉湯可以肉燥飯吃到飽\\n\\n跟無限加湯的地方吃耶',\n",
       " 'carter33 wrote:\\n\\n牛肉湯 要喝哪一間...(恕刪)\\n\\n\\n找一間順路又有開的就行了\\n心頭滅却',\n",
       " '我住台南市，不過我推薦一家在麻豆的牛肉湯，請自google\"阿榮牛肉湯\"',\n",
       " '私訊我我會跟你說今天這頭要15萬 請支持牛肉湯漲價美牛這個月開始漲可能會連帶讓牛肉市場出現跟漲的狀況 牛肉真的越來越高貴Mrs.Robson wrote:\\n\\n\\n\\n請問 呆丸歐高...(恕刪)',\n",
       " '公的乳牛是上面某位大哥說的瘦牛嗎\\n\\n我以為台灣產的牛肉應該是肉牛  不是乳牛吧~~~',\n",
       " 'tnt2 wrote:\\n\\n\\n我以為台灣產的牛肉應該是肉牛 不是乳牛吧~~~\\n\\n\\n以飼養方式不同來做為乳牛肉牛的差異',\n",
       " '其實都差不多 都很新鮮 我其實只是愛吃肉燥飯 甜甜的 阿億牛肉湯不錯',\n",
       " '和緯路上的大港牛肉湯，私人口袋名單',\n",
       " 'tnt2 wrote:\\n\\n公的乳牛是上面某位...(恕刪)\\n\\n\\n我來跟你解釋一下\\n\\n\\n一般來說肉用牛 公牛 閹牛大多是荷蘭種這種牛種其實肉很軟\\n\\n\\n但是屠宰率相當低所以大多數的牛農只養到換肉率最好的重量\\n\\n\\n就準備售出所以肉多油少 公牛約略1年半就可以出 閹牛大概要多\\n\\n\\n半年 \\n\\n\\n\\n而母乳牛因為有在生產鮮乳所以吃得相當好加上賀爾蒙問題\\n\\n\\n肉質較細且容易有油花但是大多數淘汰的母牛都是生產效益不好\\n\\n\\n或者是生病的牛\\n\\n\\n\\n所以市面上最好的牛 就是淘汰的母牛 或者是650KG以上的閹牛\\n\\n\\n瘦牛有公牛 生病牛 故障牛 或者是本身基因不良的牛']"
      ]
     },
     "execution_count": 32,
     "metadata": {},
     "output_type": "execute_result"
    }
   ],
   "source": [
    "li+article2"
   ]
  },
  {
   "cell_type": "code",
   "execution_count": 29,
   "metadata": {},
   "outputs": [
    {
     "data": {
      "text/plain": [
       "{'author_id': '',\n",
       " 'click': '34,388',\n",
       " 'content': '牛肉湯 要喝哪一間\\n\\n\\n上網找了一下 有人說熱門的那幾間都不是在地人在喝的..\\n\\n\\n那可以推薦一下 在地人推荐的牛肉湯店嗎?\\n\\n\\n\\n謝謝',\n",
       " 'date': '2017-03-20T15:28:49+08:00',\n",
       " 'message': ['在地人喝的還po出來  那在地人就朋喝了',\n",
       "  '我認識超過20個在地台南人\\n\\n\\n跟我說過的在地人才喝的牛肉湯，超過8家\\n\\n\\n而且都說別的在地人喝的，根本不道地...\\n\\n\\n所以...你說呢?',\n",
       "  '如果是單純喝牛肉湯配肉燥飯\\n\\n\\n建議吃早上的\\n\\n\\n任何一家都可以看順眼就進去\\n\\n\\n只要他的牛肉夠新鮮都OK\\n\\n\\n\\n至於要順便點個炒牛肉的\\n\\n\\n那就要看了....個人口味不一樣\\n\\n\\n實在很難說........\\n\\n\\n\\n\\n\\n安南區的果菜市場早上有賣牛肉湯那裡還不錯可以去試試看~\\n\\n\\n炒牛肉的話....觀光客可以去文章報到\\n\\n\\n其他就不好說了...好像也都差不多....',\n",
       "  '喝牛肉湯不稀奇\\n\\n喀碗牛肉肉燥飯才叫滋味\\n\\n\\n大台南賣牛肉湯的少說有200家\\n\\n兼賣牛肉肉燥飯的不超過10%\\n\\n\\n想朝聖的就去\"文章\"\\n\\n我都吃\"府城\"',\n",
       "  '每一家的湯頭都不一樣....\\n\\n價格也不一樣\\n\\n尤其是口味這種東西，大家喜歡的方向都不一樣\\n\\n基本上只要是有開的店應該都不差\\n\\n朝聖就:六千、文章這兩家算是大家的公約數\\n\\n鄉民推:長榮、西羅殿、阿安\\n\\n\\n基本上:我才不會把我的口袋名單告訴你呢～等等人太多我就吃不到還要排隊了誰賠我啊.....\\nhttp://www.jxit.com.tw/blog',\n",
       "  '基本上台南的牛肉湯店都不錯\\n\\n\\n想人擠人就去名店打個卡證明你來過台南\\n\\n\\n不想人擠人..路上看到就進去吧\\n\\n\\n牛肉來源大概都同一個地方 就差湯頭而已\\n\\n\\n也不會差很多啦.......',\n",
       "  '我都內用點一碗牛肉湯可以肉燥飯吃到飽\\n\\n跟無限加湯的地方吃耶',\n",
       "  'carter33 wrote:\\n\\n牛肉湯 要喝哪一間...(恕刪)\\n\\n\\n找一間順路又有開的就行了\\n心頭滅却',\n",
       "  '我住台南市，不過我推薦一家在麻豆的牛肉湯，請自google\"阿榮牛肉湯\"'],\n",
       " 'name': '',\n",
       " 'push': '',\n",
       " 'title': '牛肉湯 要喝哪一間',\n",
       " 'url': 'https://www.mobile01.com/waypointtopicdetail.php?f=202&t=5096693'}"
      ]
     },
     "execution_count": 29,
     "metadata": {},
     "output_type": "execute_result"
    }
   ],
   "source": [
    "dict"
   ]
  },
  {
   "cell_type": "code",
   "execution_count": 25,
   "metadata": {},
   "outputs": [
    {
     "data": {
      "text/plain": [
       "['a', 'b', 'c', 'd', 'e', 'f']"
      ]
     },
     "execution_count": 25,
     "metadata": {},
     "output_type": "execute_result"
    }
   ],
   "source": [
    "li1+li2"
   ]
  },
  {
   "cell_type": "code",
   "execution_count": 23,
   "metadata": {},
   "outputs": [
    {
     "data": {
      "text/plain": [
       "{'author_id': '',\n",
       " 'click': '6,919',\n",
       " 'content': '說到台南牛肉湯大家印象一定都集中在市區，但其實在新營也有一家我們都稱它為小六千的在地牛肉湯店，\\n\\n\\n\\n[價目表]\\n\\n\\n\\n一進門就可以看到潤紅飽滿的溫體牛肉，\\n\\n\\n\\n除了牛肉外還有心肝可以選擇，\\n\\n\\n\\n[牛肉湯]\\n\\n\\n\\n為什麼我們都稱輝旺是小六千呢?其實看湯色就可以略知一二，\\n\\n\\n\\n用原肉塊下去熬基底的六千特色是濃郁湯頭與偏暗的湯色，\\n\\n\\n\\n雖然輝旺湯底的醇厚度沒六千來的強，但我自己覺得這對我來說剛剛好，\\n\\n\\n\\n剛上桌的牛肉還是半熟狀態，喜歡這種熟度的記得先把肉撈起來，不然持續被湯的餘溫加熱會變幾乎全熟，\\n\\n\\n\\n而7分熟帶點粉嫩色的熟度則是我最喜歡的口感，\\n\\n\\n\\n[肉燥飯]\\n\\n油脂香帶點醬香的口味，\\n\\n\\n\\n肉燥肥瘦各半，\\n\\n\\n\\n[牛心炒麻油]\\n\\n\\n\\n油亮的牛心切片帶著薑與麻油的香氣，\\n\\n\\n\\n牛心是有厚度的，所以口感有彈性，\\n\\n\\n\\n盤底的麻油也別浪費，我們都會把它拿來淋在白飯或肉燥飯上增加香氣，\\n\\n\\n\\n[牛肉炒青菜]\\n\\n\\n\\n牛肉跟菜依舊是油亮油亮，\\n\\n\\n\\n但這是因為芡汁的關係(當然也有油啦)，\\n\\n\\n\\n有時包個炒青菜回去加白飯就是一大盤燴飯了，\\n\\n\\n\\n如果你喜歡類似六千那樣的湯頭下次不妨可以來新營試試，不過店址附近不好停車建議停遠點步行或是騎車前往。\\n\\n\\n本文同步發表於：[台南][新營] 輝旺牛肉湯~隱藏版小六千',\n",
       " 'date': '2017-07-28T03:53:36+08:00',\n",
       " 'message': ['積雨雲 wrote:\\n\\n說到台南牛肉湯大家...(恕刪)',\n",
       "  '拍得好讚 整個拍出美味感\\n\\n台南就是很多路旁美食\\n\\n不小心真的就一直錯過\\n\\n其實應該說 越傳統的店家 老闆用心程度 \\n\\n真的很用心 不怕虧錢 注重食材品質 \\n\\n跟湯頭熬煮的秘方步驟！',\n",
       "  '感謝分享，月底南部三天旅遊，已納入必吃',\n",
       "  '我怎麼不知道這間有人叫它小六千?\\n\\n覺得輝旺比六千好吃多了',\n",
       "  '新營這家沒嚐過\\n\\n下次去台南再繞過去\\n\\n肉看起來挺鮮嫩'],\n",
       " 'name': '',\n",
       " 'push': '',\n",
       " 'title': '[台南][新營] 輝旺牛肉湯',\n",
       " 'url': 'https://www.mobile01.com/waypointtopicdetail.php?f=202&t=5221904'}"
      ]
     },
     "execution_count": 23,
     "metadata": {},
     "output_type": "execute_result"
    }
   ],
   "source": [
    "dict"
   ]
  },
  {
   "cell_type": "code",
   "execution_count": null,
   "metadata": {
    "collapsed": true
   },
   "outputs": [],
   "source": [
    "soup.select('.forum-content > main > article')"
   ]
  },
  {
   "cell_type": "code",
   "execution_count": 21,
   "metadata": {},
   "outputs": [
    {
     "data": {
      "text/plain": [
       "'無圖示\\namboner\\n \\n2017-08-08 06:42\\xa0\\xa0#6\\n\\n文章編號: 65338060\\n\\n\\n私訊連結\\n\\n\\n\\n\\n新營這家沒嚐過\\n\\n下次去台南再繞過去\\n\\n肉看起來挺鮮嫩'"
      ]
     },
     "execution_count": 21,
     "metadata": {},
     "output_type": "execute_result"
    }
   ],
   "source": [
    "soup.select('.forum-content > main > article')[5].text.strip()"
   ]
  },
  {
   "cell_type": "code",
   "execution_count": 7,
   "metadata": {
    "scrolled": false
   },
   "outputs": [
    {
     "name": "stdout",
     "output_type": "stream",
     "text": [
      "\n",
      "\n",
      "\n",
      "\n",
      "積雨雲\n",
      "文章人氣: 6,919 \n",
      "2017-07-28 03:53  #1\n",
      "\n",
      "文章編號: 65221204文章積分: 10個人積分: 214\n",
      "\n",
      "\n",
      "私訊連結\n",
      "\n",
      "\n",
      "\n",
      "\n",
      "\n",
      "\n",
      "\n",
      "說到台南牛肉湯大家印象一定都集中在市區，但其實在新營也有一家我們都稱它為小六千的在地牛肉湯店，\n",
      "\n",
      "\n",
      "\n",
      "[價目表]\n",
      "\n",
      "\n",
      "\n",
      "一進門就可以看到潤紅飽滿的溫體牛肉，\n",
      "\n",
      "\n",
      "\n",
      "除了牛肉外還有心肝可以選擇，\n",
      "\n",
      "\n",
      "\n",
      "[牛肉湯]\n",
      "\n",
      "\n",
      "\n",
      "為什麼我們都稱輝旺是小六千呢?其實看湯色就可以略知一二，\n",
      "\n",
      "\n",
      "\n",
      "用原肉塊下去熬基底的六千特色是濃郁湯頭與偏暗的湯色，\n",
      "\n",
      "\n",
      "\n",
      "雖然輝旺湯底的醇厚度沒六千來的強，但我自己覺得這對我來說剛剛好，\n",
      "\n",
      "\n",
      "\n",
      "剛上桌的牛肉還是半熟狀態，喜歡這種熟度的記得先把肉撈起來，不然持續被湯的餘溫加熱會變幾乎全熟，\n",
      "\n",
      "\n",
      "\n",
      "而7分熟帶點粉嫩色的熟度則是我最喜歡的口感，\n",
      "\n",
      "\n",
      "\n",
      "[肉燥飯]\n",
      "\n",
      "油脂香帶點醬香的口味，\n",
      "\n",
      "\n",
      "\n",
      "肉燥肥瘦各半，\n",
      "\n",
      "\n",
      "\n",
      "[牛心炒麻油]\n",
      "\n",
      "\n",
      "\n",
      "油亮的牛心切片帶著薑與麻油的香氣，\n",
      "\n",
      "\n",
      "\n",
      "牛心是有厚度的，所以口感有彈性，\n",
      "\n",
      "\n",
      "\n",
      "盤底的麻油也別浪費，我們都會把它拿來淋在白飯或肉燥飯上增加香氣，\n",
      "\n",
      "\n",
      "\n",
      "[牛肉炒青菜]\n",
      "\n",
      "\n",
      "\n",
      "牛肉跟菜依舊是油亮油亮，\n",
      "\n",
      "\n",
      "\n",
      "但這是因為芡汁的關係(當然也有油啦)，\n",
      "\n",
      "\n",
      "\n",
      "有時包個炒青菜回去加白飯就是一大盤燴飯了，\n",
      "\n",
      "\n",
      "\n",
      "如果你喜歡類似六千那樣的湯頭下次不妨可以來新營試試，不過店址附近不好停車建議停遠點步行或是騎車前往。\n",
      "\n",
      "\n",
      "本文同步發表於：[台南][新營] 輝旺牛肉湯~隱藏版小六千\n",
      "\n",
      "\n",
      "\n",
      "\n",
      "\n",
      "\n",
      "\n",
      "\n",
      "jaioefejiseijf\n",
      " \n",
      "2017-07-31 21:56  #2\n",
      "\n",
      "文章編號: 65261227個人積分: 25\n",
      "\n",
      "\n",
      "私訊連結\n",
      "\n",
      "\n",
      "\n",
      "\n",
      "\n",
      "積雨雲 wrote:\n",
      "\n",
      "說到台南牛肉湯大家...(恕刪)\n",
      "\n",
      "\n",
      "\n",
      "\n",
      "\n",
      "\n",
      "\n",
      "無圖示\n",
      "zbyvb3829\n",
      " \n",
      "2017-08-01 18:04  #3\n",
      "\n",
      "文章編號: 65271012\n",
      "\n",
      "\n",
      "私訊連結iOS\n",
      "\n",
      "\n",
      "\n",
      "\n",
      "拍得好讚 整個拍出美味感\n",
      "\n",
      "台南就是很多路旁美食\n",
      "\n",
      "不小心真的就一直錯過\n",
      "\n",
      "其實應該說 越傳統的店家 老闆用心程度 \n",
      "\n",
      "真的很用心 不怕虧錢 注重食材品質 \n",
      "\n",
      "跟湯頭熬煮的秘方步驟！\n",
      "\n",
      "\n",
      "\n",
      "\n",
      "\n",
      "\n",
      "\n",
      "無圖示\n",
      "bryantchiu75\n",
      " \n",
      "2017-08-03 17:00  #4\n",
      "\n",
      "文章編號: 65294475\n",
      "\n",
      "\n",
      "私訊連結iOS\n",
      "\n",
      "\n",
      "\n",
      "\n",
      "感謝分享，月底南部三天旅遊，已納入必吃\n",
      "\n",
      "\n",
      "\n",
      "\n",
      "                googletag.cmd.push(function() {\n",
      "                    googletag.defineSlot('/1019567/01旅遊4F討論區BANNER_728x90', [728, 90], 'div-gpt-ad-1480495080126-0').addService(googletag.pubads());\n",
      "                    googletag.pubads().enableSingleRequest();\n",
      "                    googletag.enableServices();\n",
      "                });\n",
      "            \n",
      "\n",
      "\n",
      "                    googletag.cmd.push(function() { googletag.display('div-gpt-ad-1480495080126-0'); });\n",
      "                \n",
      "\n",
      "\n",
      "\n",
      "\n",
      "\n",
      "\n",
      "\n",
      "\n",
      "SWAMO\n",
      " \n",
      "2017-08-05 18:15  #5\n",
      "\n",
      "文章編號: 65315096個人積分: 40\n",
      "\n",
      "\n",
      "私訊連結\n",
      "\n",
      "\n",
      "\n",
      "\n",
      "我怎麼不知道這間有人叫它小六千?\n",
      "\n",
      "覺得輝旺比六千好吃多了\n",
      "\n",
      "\n",
      "\n",
      "\n",
      "\n",
      "\n",
      "\n",
      "無圖示\n",
      "amboner\n",
      " \n",
      "2017-08-08 06:42  #6\n",
      "\n",
      "文章編號: 65338060\n",
      "\n",
      "\n",
      "私訊連結\n",
      "\n",
      "\n",
      "\n",
      "\n",
      "新營這家沒嚐過\n",
      "\n",
      "下次去台南再繞過去\n",
      "\n",
      "肉看起來挺鮮嫩\n",
      "\n",
      "\n",
      "\n",
      "\n"
     ]
    }
   ],
   "source": [
    "li = []\n",
    "for article in soup.select('.forum-content > main > article'):\n",
    "    print(article.text)"
   ]
  },
  {
   "cell_type": "code",
   "execution_count": 97,
   "metadata": {},
   "outputs": [
    {
     "data": {
      "text/plain": [
       "'https://www.mobile01.com/waypointtopicdetail.php?f=202&t=5221904'"
      ]
     },
     "execution_count": 97,
     "metadata": {},
     "output_type": "execute_result"
    }
   ],
   "source": [
    "soup.find_all('meta', property=\"og:url\")[0]['content']"
   ]
  },
  {
   "cell_type": "code",
   "execution_count": 59,
   "metadata": {
    "scrolled": true
   },
   "outputs": [
    {
     "data": {
      "text/plain": [
       "'[台南][新營] 輝旺牛肉湯'"
      ]
     },
     "execution_count": 59,
     "metadata": {},
     "output_type": "execute_result"
    }
   ],
   "source": [
    "soup.find_all('meta', {'name':\"title\"})[0]['content']"
   ]
  },
  {
   "cell_type": "code",
   "execution_count": 181,
   "metadata": {
    "collapsed": true
   },
   "outputs": [],
   "source": [
    "article = []\n",
    "for tx in soup.select('.single-post-content'):\n",
    "    #print(tx.text.strip())\n",
    "    article.append(tx.text.strip())"
   ]
  },
  {
   "cell_type": "code",
   "execution_count": 182,
   "metadata": {
    "scrolled": false
   },
   "outputs": [
    {
     "data": {
      "text/plain": [
       "['說到台南牛肉湯大家印象一定都集中在市區，但其實在新營也有一家我們都稱它為小六千的在地牛肉湯店，\\n\\n\\n\\n[價目表]\\n\\n\\n\\n一進門就可以看到潤紅飽滿的溫體牛肉，\\n\\n\\n\\n除了牛肉外還有心肝可以選擇，\\n\\n\\n\\n[牛肉湯]\\n\\n\\n\\n為什麼我們都稱輝旺是小六千呢?其實看湯色就可以略知一二，\\n\\n\\n\\n用原肉塊下去熬基底的六千特色是濃郁湯頭與偏暗的湯色，\\n\\n\\n\\n雖然輝旺湯底的醇厚度沒六千來的強，但我自己覺得這對我來說剛剛好，\\n\\n\\n\\n剛上桌的牛肉還是半熟狀態，喜歡這種熟度的記得先把肉撈起來，不然持續被湯的餘溫加熱會變幾乎全熟，\\n\\n\\n\\n而7分熟帶點粉嫩色的熟度則是我最喜歡的口感，\\n\\n\\n\\n[肉燥飯]\\n\\n油脂香帶點醬香的口味，\\n\\n\\n\\n肉燥肥瘦各半，\\n\\n\\n\\n[牛心炒麻油]\\n\\n\\n\\n油亮的牛心切片帶著薑與麻油的香氣，\\n\\n\\n\\n牛心是有厚度的，所以口感有彈性，\\n\\n\\n\\n盤底的麻油也別浪費，我們都會把它拿來淋在白飯或肉燥飯上增加香氣，\\n\\n\\n\\n[牛肉炒青菜]\\n\\n\\n\\n牛肉跟菜依舊是油亮油亮，\\n\\n\\n\\n但這是因為芡汁的關係(當然也有油啦)，\\n\\n\\n\\n有時包個炒青菜回去加白飯就是一大盤燴飯了，\\n\\n\\n\\n如果你喜歡類似六千那樣的湯頭下次不妨可以來新營試試，不過店址附近不好停車建議停遠點步行或是騎車前往。\\n\\n\\n本文同步發表於：[台南][新營] 輝旺牛肉湯~隱藏版小六千',\n",
       " '積雨雲 wrote:\\n\\n說到台南牛肉湯大家...(恕刪)',\n",
       " '拍得好讚 整個拍出美味感\\n\\n台南就是很多路旁美食\\n\\n不小心真的就一直錯過\\n\\n其實應該說 越傳統的店家 老闆用心程度 \\n\\n真的很用心 不怕虧錢 注重食材品質 \\n\\n跟湯頭熬煮的秘方步驟！',\n",
       " '感謝分享，月底南部三天旅遊，已納入必吃',\n",
       " '我怎麼不知道這間有人叫它小六千?\\n\\n覺得輝旺比六千好吃多了',\n",
       " '新營這家沒嚐過\\n\\n下次去台南再繞過去\\n\\n肉看起來挺鮮嫩']"
      ]
     },
     "execution_count": 182,
     "metadata": {},
     "output_type": "execute_result"
    }
   ],
   "source": [
    "article"
   ]
  },
  {
   "cell_type": "code",
   "execution_count": 183,
   "metadata": {},
   "outputs": [
    {
     "data": {
      "text/plain": [
       "6"
      ]
     },
     "execution_count": 183,
     "metadata": {},
     "output_type": "execute_result"
    }
   ],
   "source": [
    "len(article)"
   ]
  },
  {
   "cell_type": "code",
   "execution_count": 186,
   "metadata": {
    "scrolled": true
   },
   "outputs": [
    {
     "data": {
      "text/plain": [
       "'新營這家沒嚐過\\n\\n下次去台南再繞過去\\n\\n肉看起來挺鮮嫩'"
      ]
     },
     "execution_count": 186,
     "metadata": {},
     "output_type": "execute_result"
    }
   ],
   "source": [
    "article[5]"
   ]
  }
 ],
 "metadata": {
  "kernelspec": {
   "display_name": "Python 3",
   "language": "python",
   "name": "python3"
  },
  "language_info": {
   "codemirror_mode": {
    "name": "ipython",
    "version": 3
   },
   "file_extension": ".py",
   "mimetype": "text/x-python",
   "name": "python",
   "nbconvert_exporter": "python",
   "pygments_lexer": "ipython3",
   "version": "3.6.1"
  }
 },
 "nbformat": 4,
 "nbformat_minor": 2
}
